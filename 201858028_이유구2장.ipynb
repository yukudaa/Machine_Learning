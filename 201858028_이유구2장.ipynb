{
  "nbformat": 4,
  "nbformat_minor": 0,
  "metadata": {
    "colab": {
      "provenance": [],
      "authorship_tag": "ABX9TyMP9T6hrtMgl50hkQ/KKEFd",
      "include_colab_link": true
    },
    "kernelspec": {
      "name": "python3",
      "display_name": "Python 3"
    },
    "language_info": {
      "name": "python"
    }
  },
  "cells": [
    {
      "cell_type": "markdown",
      "metadata": {
        "id": "view-in-github",
        "colab_type": "text"
      },
      "source": [
        "<a href=\"https://colab.research.google.com/github/yukudaa/Machine_Learning/blob/main/201858028_%EC%9D%B4%EC%9C%A0%EA%B5%AC2%EC%9E%A5.ipynb\" target=\"_parent\"><img src=\"https://colab.research.google.com/assets/colab-badge.svg\" alt=\"Open In Colab\"/></a>"
      ]
    },
    {
      "cell_type": "code",
      "execution_count": null,
      "metadata": {
        "id": "IH-6ERw3iNQv"
      },
      "outputs": [],
      "source": [
        "#201858028 이유구\n",
        "import numpy as np # used for handling numbers\n",
        "import pandas as pd # used for handling the dataset\n",
        "import matplotlib.pyplot as plt"
      ]
    },
    {
      "cell_type": "code",
      "source": [
        "from google.colab import drive\n",
        "drive.mount('/content/drive')"
      ],
      "metadata": {
        "id": "F4EhvA1ZiTFx",
        "colab": {
          "base_uri": "https://localhost:8080/"
        },
        "outputId": "2f9ab4cf-07dc-44df-d16b-f0b4bd156095"
      },
      "execution_count": null,
      "outputs": [
        {
          "output_type": "stream",
          "name": "stdout",
          "text": [
            "Drive already mounted at /content/drive; to attempt to forcibly remount, call drive.mount(\"/content/drive\", force_remount=True).\n"
          ]
        }
      ]
    },
    {
      "cell_type": "code",
      "source": [
        "from sklearn.impute import SimpleImputer #used for handling missing data\n",
        "from sklearn.preprocessing import LabelEncoder # used for encoding categorical \n",
        "from sklearn.model_selection import train_test_split # used for splitting training\n",
        "from sklearn.preprocessing import StandardScaler # used for featuer scalling"
      ],
      "metadata": {
        "id": "j5Rk1b9R6Va9"
      },
      "execution_count": null,
      "outputs": []
    },
    {
      "cell_type": "code",
      "source": [
        "dataset = pd.read_csv('DataPreprocessing.csv')\n",
        "X = dataset.iloc[:, :-1].values \n",
        "Y = dataset.iloc[:, -1].values"
      ],
      "metadata": {
        "id": "sWD77_pI7mQ6"
      },
      "execution_count": null,
      "outputs": []
    },
    {
      "cell_type": "code",
      "source": [
        "imputer = SimpleImputer(missing_values=np.nan, strategy='mean')\n",
        "imputer = imputer.fit(X[:, 1:])\n",
        "X[:, 1:] = imputer.transform(X[:, 1:])"
      ],
      "metadata": {
        "id": "2w_qbl-C9HrT"
      },
      "execution_count": null,
      "outputs": []
    },
    {
      "cell_type": "code",
      "source": [
        "#201858028 이유구\n",
        "from sklearn.preprocessing import LabelEncoder\n",
        "labelencoder_X = LabelEncoder()\n",
        "X[:, 0] = labelencoder_X.fit_transform(X[:, 0])"
      ],
      "metadata": {
        "id": "FKKPsohj-7rP"
      },
      "execution_count": null,
      "outputs": []
    },
    {
      "cell_type": "code",
      "source": [
        "labelencoder_X.classes_"
      ],
      "metadata": {
        "id": "6-oU5tbNBTjm",
        "colab": {
          "base_uri": "https://localhost:8080/"
        },
        "outputId": "6248eac7-374f-4758-a424-cca6027ab68c"
      },
      "execution_count": null,
      "outputs": [
        {
          "output_type": "execute_result",
          "data": {
            "text/plain": [
              "array(['Brazil', 'India', 'USA'], dtype=object)"
            ]
          },
          "metadata": {},
          "execution_count": 13
        }
      ]
    },
    {
      "cell_type": "code",
      "source": [
        "Y"
      ],
      "metadata": {
        "id": "-n2Yp_g4CI08",
        "colab": {
          "base_uri": "https://localhost:8080/"
        },
        "outputId": "5ad5c837-a818-4f97-e816-73c1c9aca711"
      },
      "execution_count": null,
      "outputs": [
        {
          "output_type": "execute_result",
          "data": {
            "text/plain": [
              "array(['No', 'Yes', 'No', 'No', 'Yes', 'Yes', 'No', 'Yes', 'No', 'Yes'],\n",
              "      dtype=object)"
            ]
          },
          "metadata": {},
          "execution_count": 14
        }
      ]
    },
    {
      "cell_type": "code",
      "source": [
        "labelencoder_X.inverse_transform(list(X[:, 0]))"
      ],
      "metadata": {
        "id": "DxDSiIaoCoYN",
        "colab": {
          "base_uri": "https://localhost:8080/"
        },
        "outputId": "65247dbf-610a-43a7-c69c-61975cf0740b"
      },
      "execution_count": null,
      "outputs": [
        {
          "output_type": "execute_result",
          "data": {
            "text/plain": [
              "array(['India', 'Brazil', 'USA', 'Brazil', 'USA', 'India', 'Brazil',\n",
              "       'India', 'USA', 'India'], dtype=object)"
            ]
          },
          "metadata": {},
          "execution_count": 15
        }
      ]
    },
    {
      "cell_type": "code",
      "source": [
        "#201858028 이유구\n",
        "labelencoder_Y = LabelEncoder()\n",
        "Y = labelencoder_Y.fit_transform(Y)"
      ],
      "metadata": {
        "id": "XGC6pQcSPXwH"
      },
      "execution_count": null,
      "outputs": []
    },
    {
      "cell_type": "code",
      "source": [
        "from sklearn.preprocessing import MinMaxScaler\n",
        "minmax_scaler = MinMaxScaler()\n",
        "X[: ,1:] = minmax_scaler.fit_transform(X[:,1:])\n",
        "print(X)"
      ],
      "metadata": {
        "id": "kTYt9BLjBw8o",
        "colab": {
          "base_uri": "https://localhost:8080/"
        },
        "outputId": "de2b99fb-41c6-48d0-c376-6a461031c760"
      },
      "execution_count": null,
      "outputs": [
        {
          "output_type": "stream",
          "name": "stdout",
          "text": [
            "[[1 0.7391304347826089 0.6857142857142859]\n",
            " [0 0.0 0.0]\n",
            " [2 0.13043478260869557 0.17142857142857149]\n",
            " [0 0.4782608695652173 0.37142857142857144]\n",
            " [2 0.5652173913043479 0.45079365079365075]\n",
            " [1 0.34782608695652173 0.2857142857142858]\n",
            " [0 0.5120772946859904 0.11428571428571432]\n",
            " [1 0.9130434782608696 0.8857142857142857]\n",
            " [2 1.0 1.0]\n",
            " [1 0.4347826086956521 0.5428571428571429]]\n"
          ]
        }
      ]
    }
  ]
}